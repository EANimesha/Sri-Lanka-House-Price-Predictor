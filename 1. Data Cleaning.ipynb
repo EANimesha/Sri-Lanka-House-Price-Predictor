{
 "cells": [
  {
   "cell_type": "code",
   "execution_count": 1,
   "id": "a75b27fb",
   "metadata": {},
   "outputs": [],
   "source": [
    "import pandas as pd\n",
    "import numpy as np\n",
    "from matplotlib import pyplot as plt\n",
    "%matplotlib inline\n",
    "import matplotlib \n",
    "matplotlib.rcParams[\"figure.figsize\"] = (20,10)"
   ]
  },
  {
   "cell_type": "code",
   "execution_count": 2,
   "id": "40d7f4af",
   "metadata": {},
   "outputs": [
    {
     "data": {
      "text/html": [
       "<div>\n",
       "<style scoped>\n",
       "    .dataframe tbody tr th:only-of-type {\n",
       "        vertical-align: middle;\n",
       "    }\n",
       "\n",
       "    .dataframe tbody tr th {\n",
       "        vertical-align: top;\n",
       "    }\n",
       "\n",
       "    .dataframe thead th {\n",
       "        text-align: right;\n",
       "    }\n",
       "</style>\n",
       "<table border=\"1\" class=\"dataframe\">\n",
       "  <thead>\n",
       "    <tr style=\"text-align: right;\">\n",
       "      <th></th>\n",
       "      <th>Title</th>\n",
       "      <th>Sub_title</th>\n",
       "      <th>Price</th>\n",
       "      <th>Address</th>\n",
       "      <th>Baths</th>\n",
       "      <th>Land size</th>\n",
       "      <th>Beds</th>\n",
       "      <th>House size</th>\n",
       "      <th>Location</th>\n",
       "      <th>Description</th>\n",
       "      <th>Post_URL</th>\n",
       "      <th>Seller_name</th>\n",
       "      <th>Seller_type</th>\n",
       "      <th>published_date</th>\n",
       "      <th>Geo_Address</th>\n",
       "      <th>Lat</th>\n",
       "      <th>Lon</th>\n",
       "    </tr>\n",
       "  </thead>\n",
       "  <tbody>\n",
       "    <tr>\n",
       "      <th>0</th>\n",
       "      <td>House with Land for Sale in Matara for sale</td>\n",
       "      <td>Posted on 06 Nov 2:32 pm, Matara City, Matara</td>\n",
       "      <td>Rs 5,400,000</td>\n",
       "      <td>Gangodagama Roard,Hakmana,Matara.</td>\n",
       "      <td>1</td>\n",
       "      <td>50.0 perches</td>\n",
       "      <td>3</td>\n",
       "      <td>1,600.0 sqft</td>\n",
       "      <td>Matara City,  Matara</td>\n",
       "      <td>Land for sale with house Matara,Hakmana Gangod...</td>\n",
       "      <td>https://ikman.lk/en/ad/house-with-land-for-sal...</td>\n",
       "      <td>Ishara Dilshan</td>\n",
       "      <td>Member</td>\n",
       "      <td>2021-11-06 14:32:00</td>\n",
       "      <td>Matara City, Matara, Sri Lanka</td>\n",
       "      <td>80.500000</td>\n",
       "      <td>6.166670</td>\n",
       "    </tr>\n",
       "    <tr>\n",
       "      <th>1</th>\n",
       "      <td>à¶",
       "à¶½à·à¶­à· à¶à·à¶¸à¶» 3 à¶ à¶à·à· à...</td>\n",
       "      <td>Posted on 24 Oct 7:27 am, Athurugiriya, Colombo</td>\n",
       "      <td>Rs 16,800,000</td>\n",
       "      <td>Athurugiriya Galwarusapare</td>\n",
       "      <td>3</td>\n",
       "      <td>8.0 perches</td>\n",
       "      <td>3</td>\n",
       "      <td>1,480.0 sqft</td>\n",
       "      <td>Athurugiriya,  Colombo</td>\n",
       "      <td>*House For Sale In Athurugiriya *Galwarusapare...</td>\n",
       "      <td>https://ikman.lk/en/ad/alut-kaamr-3-k-grh-bhaa...</td>\n",
       "      <td>DILRUWAN REAL ESTATE</td>\n",
       "      <td>Premium-Member</td>\n",
       "      <td>2021-10-24 07:27:00</td>\n",
       "      <td>Athurugiriya, Colombo, Sri Lanka</td>\n",
       "      <td>79.989929</td>\n",
       "      <td>6.877246</td>\n",
       "    </tr>\n",
       "    <tr>\n",
       "      <th>2</th>\n",
       "      <td>Kelaniya - House on 20P Land for sale for sale</td>\n",
       "      <td>Posted on 17 Nov 5:19 pm, Kelaniya, Gampaha</td>\n",
       "      <td>Rs 20,000,000</td>\n",
       "      <td>Kelaniya- Ranaviru Maldeniya Road</td>\n",
       "      <td>2</td>\n",
       "      <td>20.0 perches</td>\n",
       "      <td>3</td>\n",
       "      <td>2,800.0 sqft</td>\n",
       "      <td>Kelaniya,  Gampaha</td>\n",
       "      <td>Kelaniya- Biyagama road, Ranaviru Maladeniya R...</td>\n",
       "      <td>https://ikman.lk/en/ad/kelaniya-house-on-20p-l...</td>\n",
       "      <td>Provident Paradise (Pvt) Ltd</td>\n",
       "      <td>Member</td>\n",
       "      <td>2021-11-17 17:19:00</td>\n",
       "      <td>Kelaniya, Gampaha, Sri Lanka</td>\n",
       "      <td>79.914926</td>\n",
       "      <td>6.951178</td>\n",
       "    </tr>\n",
       "    <tr>\n",
       "      <th>3</th>\n",
       "      <td>House For Sale in Pamankada Lane Wellawatte Co...</td>\n",
       "      <td>Posted on 17 Nov 5:07 pm, Colombo 6, Colombo</td>\n",
       "      <td>Rs 187,000,000</td>\n",
       "      <td>Pamankada Lane Wellawatte Colombo.06</td>\n",
       "      <td>5</td>\n",
       "      <td>22.0 perches</td>\n",
       "      <td>5</td>\n",
       "      <td>4,000.0 sqft</td>\n",
       "      <td>Colombo 6,  Colombo</td>\n",
       "      <td>22 Perches House For Sale in Pamankada Lane We...</td>\n",
       "      <td>https://ikman.lk/en/ad/house-for-sale-in-paman...</td>\n",
       "      <td>Colombo Construction Property Developers</td>\n",
       "      <td>Premium-Member</td>\n",
       "      <td>2021-11-17 17:07:00</td>\n",
       "      <td>Colombo 6, Colombo, Sri Lanka</td>\n",
       "      <td>80.016670</td>\n",
       "      <td>6.866670</td>\n",
       "    </tr>\n",
       "    <tr>\n",
       "      <th>4</th>\n",
       "      <td>House For Sale - Attidiya for sale</td>\n",
       "      <td>Posted on 17 Nov 5:06 pm, Dehiwala, Colombo</td>\n",
       "      <td>Rs 1,300,000</td>\n",
       "      <td>MainRoad Attidiya</td>\n",
       "      <td>1</td>\n",
       "      <td>6.3 perches</td>\n",
       "      <td>2</td>\n",
       "      <td>900.0 sqft</td>\n",
       "      <td>Dehiwala,  Colombo</td>\n",
       "      <td>*à¶",
       "à¶­à·à¶­à·à¶©à·à¶º à¶´à·âà¶»à¶¯à·à·...</td>\n",
       "      <td>https://ikman.lk/en/ad/house-for-sale-attidiya...</td>\n",
       "      <td>Lakdinu Houses</td>\n",
       "      <td>Member</td>\n",
       "      <td>2021-11-17 17:06:00</td>\n",
       "      <td>Dehiwala, Colombo, Sri Lanka</td>\n",
       "      <td>79.880242</td>\n",
       "      <td>6.838232</td>\n",
       "    </tr>\n",
       "  </tbody>\n",
       "</table>\n",
       "</div>"
      ],
      "text/plain": [
       "                                               Title  \\\n",
       "0        House with Land for Sale in Matara for sale   \n",
       "1  à¶\n",
       "à¶½à·à¶­à· à¶à·à¶¸à¶» 3 à¶ à¶à·à· à...   \n",
       "2     Kelaniya - House on 20P Land for sale for sale   \n",
       "3  House For Sale in Pamankada Lane Wellawatte Co...   \n",
       "4                 House For Sale - Attidiya for sale   \n",
       "\n",
       "                                         Sub_title           Price  \\\n",
       "0    Posted on 06 Nov 2:32 pm, Matara City, Matara    Rs 5,400,000   \n",
       "1  Posted on 24 Oct 7:27 am, Athurugiriya, Colombo   Rs 16,800,000   \n",
       "2      Posted on 17 Nov 5:19 pm, Kelaniya, Gampaha   Rs 20,000,000   \n",
       "3     Posted on 17 Nov 5:07 pm, Colombo 6, Colombo  Rs 187,000,000   \n",
       "4      Posted on 17 Nov 5:06 pm, Dehiwala, Colombo    Rs 1,300,000   \n",
       "\n",
       "                                Address Baths     Land size Beds  \\\n",
       "0     Gangodagama Roard,Hakmana,Matara.     1  50.0 perches    3   \n",
       "1            Athurugiriya Galwarusapare     3   8.0 perches    3   \n",
       "2     Kelaniya- Ranaviru Maldeniya Road     2  20.0 perches    3   \n",
       "3  Pamankada Lane Wellawatte Colombo.06     5  22.0 perches    5   \n",
       "4                     MainRoad Attidiya     1   6.3 perches    2   \n",
       "\n",
       "     House size                 Location  \\\n",
       "0  1,600.0 sqft     Matara City,  Matara   \n",
       "1  1,480.0 sqft   Athurugiriya,  Colombo   \n",
       "2  2,800.0 sqft       Kelaniya,  Gampaha   \n",
       "3  4,000.0 sqft      Colombo 6,  Colombo   \n",
       "4    900.0 sqft       Dehiwala,  Colombo   \n",
       "\n",
       "                                         Description  \\\n",
       "0  Land for sale with house Matara,Hakmana Gangod...   \n",
       "1  *House For Sale In Athurugiriya *Galwarusapare...   \n",
       "2  Kelaniya- Biyagama road, Ranaviru Maladeniya R...   \n",
       "3  22 Perches House For Sale in Pamankada Lane We...   \n",
       "4  *à¶\n",
       "à¶­à·à¶­à·à¶©à·à¶º à¶´à·âà¶»à¶¯à·à·...   \n",
       "\n",
       "                                            Post_URL  \\\n",
       "0  https://ikman.lk/en/ad/house-with-land-for-sal...   \n",
       "1  https://ikman.lk/en/ad/alut-kaamr-3-k-grh-bhaa...   \n",
       "2  https://ikman.lk/en/ad/kelaniya-house-on-20p-l...   \n",
       "3  https://ikman.lk/en/ad/house-for-sale-in-paman...   \n",
       "4  https://ikman.lk/en/ad/house-for-sale-attidiya...   \n",
       "\n",
       "                                Seller_name     Seller_type  \\\n",
       "0                            Ishara Dilshan          Member   \n",
       "1                      DILRUWAN REAL ESTATE  Premium-Member   \n",
       "2              Provident Paradise (Pvt) Ltd          Member   \n",
       "3  Colombo Construction Property Developers  Premium-Member   \n",
       "4                            Lakdinu Houses          Member   \n",
       "\n",
       "        published_date                       Geo_Address        Lat       Lon  \n",
       "0  2021-11-06 14:32:00    Matara City, Matara, Sri Lanka  80.500000  6.166670  \n",
       "1  2021-10-24 07:27:00  Athurugiriya, Colombo, Sri Lanka  79.989929  6.877246  \n",
       "2  2021-11-17 17:19:00      Kelaniya, Gampaha, Sri Lanka  79.914926  6.951178  \n",
       "3  2021-11-17 17:07:00     Colombo 6, Colombo, Sri Lanka  80.016670  6.866670  \n",
       "4  2021-11-17 17:06:00      Dehiwala, Colombo, Sri Lanka  79.880242  6.838232  "
      ]
     },
     "execution_count": 2,
     "metadata": {},
     "output_type": "execute_result"
    }
   ],
   "source": [
    "df1 = pd.read_csv(\"house_prices.csv\")\n",
    "df1.head()"
   ]
  },
  {
   "cell_type": "code",
   "execution_count": 3,
   "id": "94f6fd15",
   "metadata": {},
   "outputs": [
    {
     "data": {
      "text/plain": [
       "(15327, 17)"
      ]
     },
     "execution_count": 3,
     "metadata": {},
     "output_type": "execute_result"
    }
   ],
   "source": [
    "df1.shape"
   ]
  },
  {
   "cell_type": "code",
   "execution_count": 4,
   "id": "ad3ff0c2",
   "metadata": {},
   "outputs": [
    {
     "data": {
      "text/plain": [
       "Seller_type\n",
       "Member             2175\n",
       "Premium-Member    13152\n",
       "Name: Seller_type, dtype: int64"
      ]
     },
     "execution_count": 4,
     "metadata": {},
     "output_type": "execute_result"
    }
   ],
   "source": [
    "df1.groupby('Seller_type')['Seller_type'].agg('count')"
   ]
  },
  {
   "cell_type": "code",
   "execution_count": 6,
   "id": "c2ca3b05",
   "metadata": {},
   "outputs": [
    {
     "data": {
      "text/plain": [
       "Index(['Title', 'Sub_title', 'Price', 'Address', 'Baths', 'Land size', 'Beds',\n",
       "       'House size', 'Location', 'Description', 'Post_URL', 'Seller_name',\n",
       "       'Seller_type', 'published_date', 'Geo_Address', 'Lat', 'Lon'],\n",
       "      dtype='object')"
      ]
     },
     "execution_count": 6,
     "metadata": {},
     "output_type": "execute_result"
    }
   ],
   "source": [
    "df1.columns"
   ]
  },
  {
   "cell_type": "code",
   "execution_count": 126,
   "id": "9683611a",
   "metadata": {},
   "outputs": [],
   "source": [
    "#Assumed only following columns are important\n",
    "df2= df1.loc[:,['Price','Baths','Land size', 'Beds','House size', 'Location','Seller_type']]"
   ]
  },
  {
   "cell_type": "code",
   "execution_count": 109,
   "id": "ca9e0bf3",
   "metadata": {},
   "outputs": [
    {
     "data": {
      "text/html": [
       "<div>\n",
       "<style scoped>\n",
       "    .dataframe tbody tr th:only-of-type {\n",
       "        vertical-align: middle;\n",
       "    }\n",
       "\n",
       "    .dataframe tbody tr th {\n",
       "        vertical-align: top;\n",
       "    }\n",
       "\n",
       "    .dataframe thead th {\n",
       "        text-align: right;\n",
       "    }\n",
       "</style>\n",
       "<table border=\"1\" class=\"dataframe\">\n",
       "  <thead>\n",
       "    <tr style=\"text-align: right;\">\n",
       "      <th></th>\n",
       "      <th>Price</th>\n",
       "      <th>Baths</th>\n",
       "      <th>Land size</th>\n",
       "      <th>Beds</th>\n",
       "      <th>House size</th>\n",
       "      <th>Location</th>\n",
       "      <th>Seller_type</th>\n",
       "    </tr>\n",
       "  </thead>\n",
       "  <tbody>\n",
       "    <tr>\n",
       "      <th>0</th>\n",
       "      <td>Rs 5,400,000</td>\n",
       "      <td>1</td>\n",
       "      <td>50.0 perches</td>\n",
       "      <td>3</td>\n",
       "      <td>1,600.0 sqft</td>\n",
       "      <td>Matara City,  Matara</td>\n",
       "      <td>Member</td>\n",
       "    </tr>\n",
       "    <tr>\n",
       "      <th>1</th>\n",
       "      <td>Rs 16,800,000</td>\n",
       "      <td>3</td>\n",
       "      <td>8.0 perches</td>\n",
       "      <td>3</td>\n",
       "      <td>1,480.0 sqft</td>\n",
       "      <td>Athurugiriya,  Colombo</td>\n",
       "      <td>Premium-Member</td>\n",
       "    </tr>\n",
       "    <tr>\n",
       "      <th>2</th>\n",
       "      <td>Rs 20,000,000</td>\n",
       "      <td>2</td>\n",
       "      <td>20.0 perches</td>\n",
       "      <td>3</td>\n",
       "      <td>2,800.0 sqft</td>\n",
       "      <td>Kelaniya,  Gampaha</td>\n",
       "      <td>Member</td>\n",
       "    </tr>\n",
       "    <tr>\n",
       "      <th>3</th>\n",
       "      <td>Rs 187,000,000</td>\n",
       "      <td>5</td>\n",
       "      <td>22.0 perches</td>\n",
       "      <td>5</td>\n",
       "      <td>4,000.0 sqft</td>\n",
       "      <td>Colombo 6,  Colombo</td>\n",
       "      <td>Premium-Member</td>\n",
       "    </tr>\n",
       "    <tr>\n",
       "      <th>4</th>\n",
       "      <td>Rs 1,300,000</td>\n",
       "      <td>1</td>\n",
       "      <td>6.3 perches</td>\n",
       "      <td>2</td>\n",
       "      <td>900.0 sqft</td>\n",
       "      <td>Dehiwala,  Colombo</td>\n",
       "      <td>Member</td>\n",
       "    </tr>\n",
       "  </tbody>\n",
       "</table>\n",
       "</div>"
      ],
      "text/plain": [
       "            Price Baths     Land size Beds    House size  \\\n",
       "0    Rs 5,400,000     1  50.0 perches    3  1,600.0 sqft   \n",
       "1   Rs 16,800,000     3   8.0 perches    3  1,480.0 sqft   \n",
       "2   Rs 20,000,000     2  20.0 perches    3  2,800.0 sqft   \n",
       "3  Rs 187,000,000     5  22.0 perches    5  4,000.0 sqft   \n",
       "4    Rs 1,300,000     1   6.3 perches    2    900.0 sqft   \n",
       "\n",
       "                  Location     Seller_type  \n",
       "0     Matara City,  Matara          Member  \n",
       "1   Athurugiriya,  Colombo  Premium-Member  \n",
       "2       Kelaniya,  Gampaha          Member  \n",
       "3      Colombo 6,  Colombo  Premium-Member  \n",
       "4       Dehiwala,  Colombo          Member  "
      ]
     },
     "execution_count": 109,
     "metadata": {},
     "output_type": "execute_result"
    }
   ],
   "source": [
    "df2.head()"
   ]
  },
  {
   "cell_type": "markdown",
   "id": "2d1a0f88",
   "metadata": {},
   "source": [
    "## Data Cleaning"
   ]
  },
  {
   "cell_type": "code",
   "execution_count": 110,
   "id": "c8defd10",
   "metadata": {},
   "outputs": [
    {
     "data": {
      "text/plain": [
       "Price          0\n",
       "Baths          0\n",
       "Land size      0\n",
       "Beds           0\n",
       "House size     0\n",
       "Location       0\n",
       "Seller_type    0\n",
       "dtype: int64"
      ]
     },
     "execution_count": 110,
     "metadata": {},
     "output_type": "execute_result"
    }
   ],
   "source": [
    "df2.isnull().sum()"
   ]
  },
  {
   "cell_type": "code",
   "execution_count": 111,
   "id": "7fd5d54d",
   "metadata": {},
   "outputs": [
    {
     "data": {
      "text/html": [
       "<div>\n",
       "<style scoped>\n",
       "    .dataframe tbody tr th:only-of-type {\n",
       "        vertical-align: middle;\n",
       "    }\n",
       "\n",
       "    .dataframe tbody tr th {\n",
       "        vertical-align: top;\n",
       "    }\n",
       "\n",
       "    .dataframe thead th {\n",
       "        text-align: right;\n",
       "    }\n",
       "</style>\n",
       "<table border=\"1\" class=\"dataframe\">\n",
       "  <thead>\n",
       "    <tr style=\"text-align: right;\">\n",
       "      <th></th>\n",
       "      <th>Price</th>\n",
       "      <th>Baths</th>\n",
       "      <th>Land size</th>\n",
       "      <th>Beds</th>\n",
       "      <th>House size</th>\n",
       "      <th>Location</th>\n",
       "      <th>Seller_type</th>\n",
       "    </tr>\n",
       "  </thead>\n",
       "  <tbody>\n",
       "    <tr>\n",
       "      <th>0</th>\n",
       "      <td>Rs 5,400,000</td>\n",
       "      <td>1</td>\n",
       "      <td>50.0 perches</td>\n",
       "      <td>3</td>\n",
       "      <td>1,600.0 sqft</td>\n",
       "      <td>Matara City,  Matara</td>\n",
       "      <td>Member</td>\n",
       "    </tr>\n",
       "    <tr>\n",
       "      <th>1</th>\n",
       "      <td>Rs 16,800,000</td>\n",
       "      <td>3</td>\n",
       "      <td>8.0 perches</td>\n",
       "      <td>3</td>\n",
       "      <td>1,480.0 sqft</td>\n",
       "      <td>Athurugiriya,  Colombo</td>\n",
       "      <td>Premium-Member</td>\n",
       "    </tr>\n",
       "    <tr>\n",
       "      <th>2</th>\n",
       "      <td>Rs 20,000,000</td>\n",
       "      <td>2</td>\n",
       "      <td>20.0 perches</td>\n",
       "      <td>3</td>\n",
       "      <td>2,800.0 sqft</td>\n",
       "      <td>Kelaniya,  Gampaha</td>\n",
       "      <td>Member</td>\n",
       "    </tr>\n",
       "    <tr>\n",
       "      <th>3</th>\n",
       "      <td>Rs 187,000,000</td>\n",
       "      <td>5</td>\n",
       "      <td>22.0 perches</td>\n",
       "      <td>5</td>\n",
       "      <td>4,000.0 sqft</td>\n",
       "      <td>Colombo 6,  Colombo</td>\n",
       "      <td>Premium-Member</td>\n",
       "    </tr>\n",
       "    <tr>\n",
       "      <th>4</th>\n",
       "      <td>Rs 1,300,000</td>\n",
       "      <td>1</td>\n",
       "      <td>6.3 perches</td>\n",
       "      <td>2</td>\n",
       "      <td>900.0 sqft</td>\n",
       "      <td>Dehiwala,  Colombo</td>\n",
       "      <td>Member</td>\n",
       "    </tr>\n",
       "  </tbody>\n",
       "</table>\n",
       "</div>"
      ],
      "text/plain": [
       "            Price Baths     Land size Beds    House size  \\\n",
       "0    Rs 5,400,000     1  50.0 perches    3  1,600.0 sqft   \n",
       "1   Rs 16,800,000     3   8.0 perches    3  1,480.0 sqft   \n",
       "2   Rs 20,000,000     2  20.0 perches    3  2,800.0 sqft   \n",
       "3  Rs 187,000,000     5  22.0 perches    5  4,000.0 sqft   \n",
       "4    Rs 1,300,000     1   6.3 perches    2    900.0 sqft   \n",
       "\n",
       "                  Location     Seller_type  \n",
       "0     Matara City,  Matara          Member  \n",
       "1   Athurugiriya,  Colombo  Premium-Member  \n",
       "2       Kelaniya,  Gampaha          Member  \n",
       "3      Colombo 6,  Colombo  Premium-Member  \n",
       "4       Dehiwala,  Colombo          Member  "
      ]
     },
     "execution_count": 111,
     "metadata": {},
     "output_type": "execute_result"
    }
   ],
   "source": [
    "# df3=df2.dropna()\n",
    "df2.head()"
   ]
  },
  {
   "cell_type": "code",
   "execution_count": 127,
   "id": "8960c376",
   "metadata": {},
   "outputs": [],
   "source": [
    "# df2['Location'].unique()\n",
    "df2[['town','district']]=df2.Location.str.split(\",\",expand=True)\n",
    "df2= df2.drop('Location',1)"
   ]
  },
  {
   "cell_type": "code",
   "execution_count": 128,
   "id": "6cace2f5",
   "metadata": {},
   "outputs": [
    {
     "data": {
      "text/html": [
       "<div>\n",
       "<style scoped>\n",
       "    .dataframe tbody tr th:only-of-type {\n",
       "        vertical-align: middle;\n",
       "    }\n",
       "\n",
       "    .dataframe tbody tr th {\n",
       "        vertical-align: top;\n",
       "    }\n",
       "\n",
       "    .dataframe thead th {\n",
       "        text-align: right;\n",
       "    }\n",
       "</style>\n",
       "<table border=\"1\" class=\"dataframe\">\n",
       "  <thead>\n",
       "    <tr style=\"text-align: right;\">\n",
       "      <th></th>\n",
       "      <th>Price</th>\n",
       "      <th>Baths</th>\n",
       "      <th>Land size</th>\n",
       "      <th>Beds</th>\n",
       "      <th>House size</th>\n",
       "      <th>Seller_type</th>\n",
       "      <th>town</th>\n",
       "      <th>district</th>\n",
       "    </tr>\n",
       "  </thead>\n",
       "  <tbody>\n",
       "    <tr>\n",
       "      <th>0</th>\n",
       "      <td>5400000</td>\n",
       "      <td>1</td>\n",
       "      <td>50.0 perches</td>\n",
       "      <td>3</td>\n",
       "      <td>1600.0</td>\n",
       "      <td>Member</td>\n",
       "      <td>Matara City</td>\n",
       "      <td>Matara</td>\n",
       "    </tr>\n",
       "    <tr>\n",
       "      <th>1</th>\n",
       "      <td>16800000</td>\n",
       "      <td>3</td>\n",
       "      <td>8.0 perches</td>\n",
       "      <td>3</td>\n",
       "      <td>1480.0</td>\n",
       "      <td>Premium-Member</td>\n",
       "      <td>Athurugiriya</td>\n",
       "      <td>Colombo</td>\n",
       "    </tr>\n",
       "    <tr>\n",
       "      <th>2</th>\n",
       "      <td>20000000</td>\n",
       "      <td>2</td>\n",
       "      <td>20.0 perches</td>\n",
       "      <td>3</td>\n",
       "      <td>2800.0</td>\n",
       "      <td>Member</td>\n",
       "      <td>Kelaniya</td>\n",
       "      <td>Gampaha</td>\n",
       "    </tr>\n",
       "    <tr>\n",
       "      <th>3</th>\n",
       "      <td>187000000</td>\n",
       "      <td>5</td>\n",
       "      <td>22.0 perches</td>\n",
       "      <td>5</td>\n",
       "      <td>4000.0</td>\n",
       "      <td>Premium-Member</td>\n",
       "      <td>Colombo 6</td>\n",
       "      <td>Colombo</td>\n",
       "    </tr>\n",
       "    <tr>\n",
       "      <th>4</th>\n",
       "      <td>1300000</td>\n",
       "      <td>1</td>\n",
       "      <td>6.3 perches</td>\n",
       "      <td>2</td>\n",
       "      <td>900.0</td>\n",
       "      <td>Member</td>\n",
       "      <td>Dehiwala</td>\n",
       "      <td>Colombo</td>\n",
       "    </tr>\n",
       "  </tbody>\n",
       "</table>\n",
       "</div>"
      ],
      "text/plain": [
       "       Price Baths     Land size Beds  House size     Seller_type  \\\n",
       "0    5400000     1  50.0 perches    3      1600.0          Member   \n",
       "1   16800000     3   8.0 perches    3      1480.0  Premium-Member   \n",
       "2   20000000     2  20.0 perches    3      2800.0          Member   \n",
       "3  187000000     5  22.0 perches    5      4000.0  Premium-Member   \n",
       "4    1300000     1   6.3 perches    2       900.0          Member   \n",
       "\n",
       "            town   district  \n",
       "0    Matara City     Matara  \n",
       "1   Athurugiriya    Colombo  \n",
       "2       Kelaniya    Gampaha  \n",
       "3      Colombo 6    Colombo  \n",
       "4       Dehiwala    Colombo  "
      ]
     },
     "execution_count": 128,
     "metadata": {},
     "output_type": "execute_result"
    }
   ],
   "source": [
    "df2['Price'] = df2['Price'].str.replace('Rs', '').str.replace(',', '').astype(int)\n",
    "df2['House size'] = df2['House size'].str.replace('sqft', '').str.replace(',', '').astype(float)\n",
    "df2.head()"
   ]
  },
  {
   "cell_type": "code",
   "execution_count": 129,
   "id": "fd6257de",
   "metadata": {},
   "outputs": [],
   "source": [
    "def acres_to_perches(row):\n",
    "    if(len(row['Land size'].split())!=2):\n",
    "        quantity = 'NaN'\n",
    "    else:\n",
    "        quantity, uom = row['Land size'].split()\n",
    "        quantity = quantity.replace(',', '')\n",
    "        if uom == 'acres':\n",
    "            quantity=quantity*43560\n",
    "    return quantity\n",
    "\n",
    "df2['Land size'] = df2.apply(acres_to_perches, axis=1)"
   ]
  },
  {
   "cell_type": "code",
   "execution_count": 115,
   "id": "40f04303",
   "metadata": {},
   "outputs": [
    {
     "data": {
      "text/html": [
       "<div>\n",
       "<style scoped>\n",
       "    .dataframe tbody tr th:only-of-type {\n",
       "        vertical-align: middle;\n",
       "    }\n",
       "\n",
       "    .dataframe tbody tr th {\n",
       "        vertical-align: top;\n",
       "    }\n",
       "\n",
       "    .dataframe thead th {\n",
       "        text-align: right;\n",
       "    }\n",
       "</style>\n",
       "<table border=\"1\" class=\"dataframe\">\n",
       "  <thead>\n",
       "    <tr style=\"text-align: right;\">\n",
       "      <th></th>\n",
       "      <th>Price</th>\n",
       "      <th>Baths</th>\n",
       "      <th>Land size</th>\n",
       "      <th>Beds</th>\n",
       "      <th>House size</th>\n",
       "      <th>Seller_type</th>\n",
       "      <th>town</th>\n",
       "      <th>district</th>\n",
       "    </tr>\n",
       "  </thead>\n",
       "  <tbody>\n",
       "    <tr>\n",
       "      <th>0</th>\n",
       "      <td>5400000</td>\n",
       "      <td>1</td>\n",
       "      <td>50.0</td>\n",
       "      <td>3</td>\n",
       "      <td>1600.0</td>\n",
       "      <td>Member</td>\n",
       "      <td>Matara City</td>\n",
       "      <td>Matara</td>\n",
       "    </tr>\n",
       "    <tr>\n",
       "      <th>1</th>\n",
       "      <td>16800000</td>\n",
       "      <td>3</td>\n",
       "      <td>8.0</td>\n",
       "      <td>3</td>\n",
       "      <td>1480.0</td>\n",
       "      <td>Premium-Member</td>\n",
       "      <td>Athurugiriya</td>\n",
       "      <td>Colombo</td>\n",
       "    </tr>\n",
       "    <tr>\n",
       "      <th>2</th>\n",
       "      <td>20000000</td>\n",
       "      <td>2</td>\n",
       "      <td>20.0</td>\n",
       "      <td>3</td>\n",
       "      <td>2800.0</td>\n",
       "      <td>Member</td>\n",
       "      <td>Kelaniya</td>\n",
       "      <td>Gampaha</td>\n",
       "    </tr>\n",
       "    <tr>\n",
       "      <th>3</th>\n",
       "      <td>187000000</td>\n",
       "      <td>5</td>\n",
       "      <td>22.0</td>\n",
       "      <td>5</td>\n",
       "      <td>4000.0</td>\n",
       "      <td>Premium-Member</td>\n",
       "      <td>Colombo 6</td>\n",
       "      <td>Colombo</td>\n",
       "    </tr>\n",
       "    <tr>\n",
       "      <th>4</th>\n",
       "      <td>1300000</td>\n",
       "      <td>1</td>\n",
       "      <td>6.3</td>\n",
       "      <td>2</td>\n",
       "      <td>900.0</td>\n",
       "      <td>Member</td>\n",
       "      <td>Dehiwala</td>\n",
       "      <td>Colombo</td>\n",
       "    </tr>\n",
       "  </tbody>\n",
       "</table>\n",
       "</div>"
      ],
      "text/plain": [
       "       Price Baths Land size Beds  House size     Seller_type           town  \\\n",
       "0    5400000     1      50.0    3      1600.0          Member    Matara City   \n",
       "1   16800000     3       8.0    3      1480.0  Premium-Member   Athurugiriya   \n",
       "2   20000000     2      20.0    3      2800.0          Member       Kelaniya   \n",
       "3  187000000     5      22.0    5      4000.0  Premium-Member      Colombo 6   \n",
       "4    1300000     1       6.3    2       900.0          Member       Dehiwala   \n",
       "\n",
       "    district  \n",
       "0     Matara  \n",
       "1    Colombo  \n",
       "2    Gampaha  \n",
       "3    Colombo  \n",
       "4    Colombo  "
      ]
     },
     "execution_count": 115,
     "metadata": {},
     "output_type": "execute_result"
    }
   ],
   "source": [
    "## Final Cleaned Dataset\n",
    "df2.head()"
   ]
  },
  {
   "cell_type": "code",
   "execution_count": 130,
   "id": "c0ea5377",
   "metadata": {},
   "outputs": [
    {
     "data": {
      "text/plain": [
       "array(['3', '5', '2', '4', '10+', '9', '8', '6', '7', '1', '10'],\n",
       "      dtype=object)"
      ]
     },
     "execution_count": 130,
     "metadata": {},
     "output_type": "execute_result"
    }
   ],
   "source": [
    "df2.Beds.unique()"
   ]
  },
  {
   "cell_type": "code",
   "execution_count": 131,
   "id": "59170ba3",
   "metadata": {},
   "outputs": [
    {
     "data": {
      "text/plain": [
       "array(['1', '3', '2', '5', '4', '10+', '7', '6', '8', '10', '9'],\n",
       "      dtype=object)"
      ]
     },
     "execution_count": 131,
     "metadata": {},
     "output_type": "execute_result"
    }
   ],
   "source": [
    "df2.Baths.unique()"
   ]
  },
  {
   "cell_type": "code",
   "execution_count": 132,
   "id": "fa58bc28",
   "metadata": {},
   "outputs": [
    {
     "data": {
      "text/plain": [
       "(15327, 8)"
      ]
     },
     "execution_count": 132,
     "metadata": {},
     "output_type": "execute_result"
    }
   ],
   "source": [
    "df2.shape"
   ]
  },
  {
   "cell_type": "markdown",
   "id": "3bad7dad",
   "metadata": {},
   "source": [
    "Assumed that 10+ values cannot be used for prediction. Therefore removed those columns"
   ]
  },
  {
   "cell_type": "code",
   "execution_count": 145,
   "id": "ac896d13",
   "metadata": {},
   "outputs": [
    {
     "data": {
      "text/plain": [
       "(15269, 8)"
      ]
     },
     "execution_count": 145,
     "metadata": {},
     "output_type": "execute_result"
    }
   ],
   "source": [
    "def is_int(x):\n",
    "    try:\n",
    "        int(x)\n",
    "    except:\n",
    "        return False\n",
    "    return True\n",
    "\n",
    "df2= df2[df2['Baths'].apply(is_int)]\n",
    "df2= df2[df2['Beds'].apply(is_int)]\n",
    "df2.shape"
   ]
  },
  {
   "cell_type": "code",
   "execution_count": 140,
   "id": "f7897c4f",
   "metadata": {},
   "outputs": [
    {
     "data": {
      "text/html": [
       "<div>\n",
       "<style scoped>\n",
       "    .dataframe tbody tr th:only-of-type {\n",
       "        vertical-align: middle;\n",
       "    }\n",
       "\n",
       "    .dataframe tbody tr th {\n",
       "        vertical-align: top;\n",
       "    }\n",
       "\n",
       "    .dataframe thead th {\n",
       "        text-align: right;\n",
       "    }\n",
       "</style>\n",
       "<table border=\"1\" class=\"dataframe\">\n",
       "  <thead>\n",
       "    <tr style=\"text-align: right;\">\n",
       "      <th></th>\n",
       "      <th>Price</th>\n",
       "      <th>Baths</th>\n",
       "      <th>Land size</th>\n",
       "      <th>Beds</th>\n",
       "      <th>House size</th>\n",
       "      <th>Seller_type</th>\n",
       "      <th>town</th>\n",
       "      <th>district</th>\n",
       "    </tr>\n",
       "  </thead>\n",
       "  <tbody>\n",
       "    <tr>\n",
       "      <th>0</th>\n",
       "      <td>5400000</td>\n",
       "      <td>1</td>\n",
       "      <td>50.0</td>\n",
       "      <td>3</td>\n",
       "      <td>1600.0</td>\n",
       "      <td>Member</td>\n",
       "      <td>Matara City</td>\n",
       "      <td>Matara</td>\n",
       "    </tr>\n",
       "    <tr>\n",
       "      <th>1</th>\n",
       "      <td>16800000</td>\n",
       "      <td>3</td>\n",
       "      <td>8.0</td>\n",
       "      <td>3</td>\n",
       "      <td>1480.0</td>\n",
       "      <td>Premium-Member</td>\n",
       "      <td>Athurugiriya</td>\n",
       "      <td>Colombo</td>\n",
       "    </tr>\n",
       "    <tr>\n",
       "      <th>2</th>\n",
       "      <td>20000000</td>\n",
       "      <td>2</td>\n",
       "      <td>20.0</td>\n",
       "      <td>3</td>\n",
       "      <td>2800.0</td>\n",
       "      <td>Member</td>\n",
       "      <td>Kelaniya</td>\n",
       "      <td>Gampaha</td>\n",
       "    </tr>\n",
       "    <tr>\n",
       "      <th>3</th>\n",
       "      <td>187000000</td>\n",
       "      <td>5</td>\n",
       "      <td>22.0</td>\n",
       "      <td>5</td>\n",
       "      <td>4000.0</td>\n",
       "      <td>Premium-Member</td>\n",
       "      <td>Colombo 6</td>\n",
       "      <td>Colombo</td>\n",
       "    </tr>\n",
       "    <tr>\n",
       "      <th>4</th>\n",
       "      <td>1300000</td>\n",
       "      <td>1</td>\n",
       "      <td>6.3</td>\n",
       "      <td>2</td>\n",
       "      <td>900.0</td>\n",
       "      <td>Member</td>\n",
       "      <td>Dehiwala</td>\n",
       "      <td>Colombo</td>\n",
       "    </tr>\n",
       "  </tbody>\n",
       "</table>\n",
       "</div>"
      ],
      "text/plain": [
       "       Price Baths Land size Beds  House size     Seller_type           town  \\\n",
       "0    5400000     1      50.0    3      1600.0          Member    Matara City   \n",
       "1   16800000     3       8.0    3      1480.0  Premium-Member   Athurugiriya   \n",
       "2   20000000     2      20.0    3      2800.0          Member       Kelaniya   \n",
       "3  187000000     5      22.0    5      4000.0  Premium-Member      Colombo 6   \n",
       "4    1300000     1       6.3    2       900.0          Member       Dehiwala   \n",
       "\n",
       "    district  \n",
       "0     Matara  \n",
       "1    Colombo  \n",
       "2    Gampaha  \n",
       "3    Colombo  \n",
       "4    Colombo  "
      ]
     },
     "execution_count": 140,
     "metadata": {},
     "output_type": "execute_result"
    }
   ],
   "source": [
    "df2.head()"
   ]
  },
  {
   "cell_type": "code",
   "execution_count": 143,
   "id": "c3320a06",
   "metadata": {},
   "outputs": [
    {
     "name": "stdout",
     "output_type": "stream",
     "text": [
      "<class 'pandas.core.frame.DataFrame'>\n",
      "Int64Index: 15269 entries, 0 to 15326\n",
      "Data columns (total 8 columns):\n",
      " #   Column       Non-Null Count  Dtype  \n",
      "---  ------       --------------  -----  \n",
      " 0   Price        15269 non-null  int32  \n",
      " 1   Baths        15269 non-null  object \n",
      " 2   Land size    15269 non-null  object \n",
      " 3   Beds         15269 non-null  object \n",
      " 4   House size   15269 non-null  float64\n",
      " 5   Seller_type  15269 non-null  object \n",
      " 6   town         15269 non-null  object \n",
      " 7   district     15269 non-null  object \n",
      "dtypes: float64(1), int32(1), object(6)\n",
      "memory usage: 1014.0+ KB\n"
     ]
    }
   ],
   "source": [
    "df2.info()"
   ]
  },
  {
   "cell_type": "code",
   "execution_count": 149,
   "id": "6d947302",
   "metadata": {},
   "outputs": [
    {
     "data": {
      "text/plain": [
       "Price            int32\n",
       "Baths            int32\n",
       "Land size       object\n",
       "Beds             int32\n",
       "House size     float64\n",
       "Seller_type     object\n",
       "town            object\n",
       "district        object\n",
       "dtype: object"
      ]
     },
     "execution_count": 149,
     "metadata": {},
     "output_type": "execute_result"
    }
   ],
   "source": [
    "df2['Baths'] = df2['Baths'].astype('int32')\n",
    "df2['Beds'] = df2['Beds'].astype('int32')\n",
    "df2.dtypes"
   ]
  },
  {
   "cell_type": "code",
   "execution_count": 151,
   "id": "69698ead",
   "metadata": {},
   "outputs": [],
   "source": [
    "df2.to_csv('cleaned_data.csv', sep='\\t')"
   ]
  },
  {
   "cell_type": "code",
   "execution_count": null,
   "id": "c715b3d0",
   "metadata": {},
   "outputs": [],
   "source": []
  }
 ],
 "metadata": {
  "kernelspec": {
   "display_name": "Python 3",
   "language": "python",
   "name": "python3"
  },
  "language_info": {
   "codemirror_mode": {
    "name": "ipython",
    "version": 3
   },
   "file_extension": ".py",
   "mimetype": "text/x-python",
   "name": "python",
   "nbconvert_exporter": "python",
   "pygments_lexer": "ipython3",
   "version": "3.8.8"
  }
 },
 "nbformat": 4,
 "nbformat_minor": 5
}
